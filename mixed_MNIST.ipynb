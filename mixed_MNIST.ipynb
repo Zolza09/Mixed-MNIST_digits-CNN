{
 "cells": [
  {
   "cell_type": "code",
   "execution_count": 353,
   "metadata": {
    "collapsed": true
   },
   "outputs": [],
   "source": [
    "from keras.models import Sequential\n",
    "from keras.layers import Dense, Dropout, Flatten\n",
    "from keras.layers.convolutional import Conv2D, MaxPooling2D\n",
    "from keras.utils import np_utils\n",
    "from keras import backend as K\n",
    "K.set_image_dim_ordering('th')\n",
    "\n",
    "import scipy.io as sio\n",
    "import matplotlib.pyplot as plt\n",
    "from scipy import misc\n",
    "import numpy as np\n",
    "import cv2 \n",
    "import glob\n",
    "%matplotlib inline "
   ]
  },
  {
   "cell_type": "markdown",
   "metadata": {},
   "source": [
    "# Import test data"
   ]
  },
  {
   "cell_type": "code",
   "execution_count": 532,
   "metadata": {
    "collapsed": false
   },
   "outputs": [
    {
     "name": "stdout",
     "output_type": "stream",
     "text": [
      "Test data size:  (10000, 28, 28)\n",
      "Test label size: (10000, 2)\n"
     ]
    }
   ],
   "source": [
    "data = sio.loadmat('mnist_mix2_gray.mat')\n",
    "test_data = data['M2']\n",
    "test_label = data['L2']\n",
    "\n",
    "print(\"Test data size: \", test_data.shape)\n",
    "print(\"Test label size:\", test_label.shape)"
   ]
  },
  {
   "cell_type": "code",
   "execution_count": 534,
   "metadata": {
    "collapsed": false
   },
   "outputs": [
    {
     "data": {
      "text/plain": [
       "array([0, 1, 2, 3, 4, 5, 6, 7, 8, 9], dtype=uint8)"
      ]
     },
     "execution_count": 534,
     "metadata": {},
     "output_type": "execute_result"
    }
   ],
   "source": [
    "np.unique(test_label[:,1])"
   ]
  },
  {
   "cell_type": "markdown",
   "metadata": {},
   "source": [
    "## Visualized testing images with label "
   ]
  },
  {
   "cell_type": "code",
   "execution_count": 439,
   "metadata": {
    "collapsed": false
   },
   "outputs": [
    {
     "data": {
      "image/png": "[encoded data removed]",
      "text/plain": [
       "<matplotlib.figure.Figure at 0x272815a9fd0>"
      ]
     },
     "metadata": {},
     "output_type": "display_data"
    }
   ],
   "source": [
    "#value = 0 \n",
    "plt.figure(figsize=(10,5))\n",
    "for i in range(10):\n",
    "    plt.subplot(2,5,i+1), plt.imshow(test_data[i], 'gray')\n",
    "    title_text = \"Train_Label:\" + str(test_label[i])\n",
    "    plt.xticks([]),plt.yticks([])\n",
    "    plt.title(title_text, size = 12)\n",
    "    #value += 500"
   ]
  },
  {
   "cell_type": "markdown",
   "metadata": {},
   "source": [
    "# Preparing own mixed training dataset using MNIST images"
   ]
  },
  {
   "cell_type": "code",
   "execution_count": 682,
   "metadata": {
    "collapsed": false
   },
   "outputs": [],
   "source": [
    "zero, one, two, three, four  =  [],[],[],[],[]\n",
    "five, six, seven, eight, nine = [],[],[],[],[]\n",
    "digits = [zero,one,two,three,four,five,six,seven,eight,nine]"
   ]
  },
  {
   "cell_type": "markdown",
   "metadata": {},
   "source": [
    "## Import images from which are located directory and inserted into digits list "
   ]
  },
  {
   "cell_type": "code",
   "execution_count": 617,
   "metadata": {
    "collapsed": false
   },
   "outputs": [],
   "source": [
    "for i in range(10):\n",
    "    \n",
    "    files = glob.glob(\"..\\\\MNIST\\\\mnist_png_data\\\\training\\\\%d\\\\*.PNG\" % i)\n",
    "    for myFile in range(200):\n",
    "        \n",
    "        img = misc.imread(files[myFile])\n",
    "        digits[i].append(img)       "
   ]
  },
  {
   "cell_type": "code",
   "execution_count": 618,
   "metadata": {
    "collapsed": false
   },
   "outputs": [
    {
     "data": {
      "text/plain": [
       "(10, 200, 28, 28)"
      ]
     },
     "execution_count": 618,
     "metadata": {},
     "output_type": "execute_result"
    }
   ],
   "source": [
    "digits = np.array(digits)\n",
    "digits.shape"
   ]
  },
  {
   "cell_type": "markdown",
   "metadata": {},
   "source": [
    "# Mixing two digits images\n",
    "## Variable declaration \n",
    "### 1. I declared train_data array for containing mixed images\n",
    "### 2. I declared train_label array for containing mixed images' labels \n",
    "### 3. Digits array size is [10,200,28,28] details below:\n",
    "##### First,10 --> 0,1,2...8,9 numbers\n",
    "##### Second, 200--> samples size for instance 0 have 200, 1 have 200 so on\n",
    "##### Third, Fourth --> pixel sizes 28x28  \n",
    "## Proceture of mixing two images \n",
    "##### Compared all of the pixels of 2 images. And we can make new combined image which is constructed maximum values. \n"
   ]
  },
  {
   "cell_type": "code",
   "execution_count": 650,
   "metadata": {
    "collapsed": false
   },
   "outputs": [],
   "source": [
    "train_data = np.zeros(shape=(18000,28,28))\n",
    "train_label = np.zeros(shape=(18000,2))\n",
    "loop = 0\n",
    "i = 0\n",
    "j = 0\n",
    "img_count = 0\n",
    "while(i<10):\n",
    "    while(j<10):\n",
    "        if i == j:\n",
    "            j=j\n",
    "        else:\n",
    "            for loop in range(200):\n",
    "                for x in range(28):\n",
    "                    for y in range(28):\n",
    "                        if digits[i,loop,x,y] > digits[j,loop,x,y]:\n",
    "                            train_data[img_count,x,y] = digits[i,loop,x,y]\n",
    "                        else:\n",
    "                            train_data[img_count,x,y] = digits[j,loop,x,y]\n",
    "                train_label[img_count,0] = i\n",
    "                train_label[img_count,1] = j\n",
    "                img_count+=1\n",
    "            \n",
    "        j+=1\n",
    "        loop=0\n",
    "        x,y =0,0\n",
    "    i+=1\n",
    "    j=0\n",
    "    \n",
    "train_label= np.uint8(train_label) # float to unsigned int convert "
   ]
  },
  {
   "cell_type": "code",
   "execution_count": 651,
   "metadata": {
    "collapsed": false
   },
   "outputs": [
    {
     "name": "stdout",
     "output_type": "stream",
     "text": [
      "(18000, 28, 28)\n",
      "(18000, 2)\n"
     ]
    }
   ],
   "source": [
    "train_label= np.uint8(train_label)\n",
    "print(train_data.shape)\n",
    "print(train_label.shape)"
   ]
  },
  {
   "cell_type": "markdown",
   "metadata": {},
   "source": [
    "## Visualized mixed Images with labels"
   ]
  },
  {
   "cell_type": "code",
   "execution_count": 653,
   "metadata": {
    "collapsed": false
   },
   "outputs": [
    {
     "data": {
      "image/png": "[encoded data removed]",
      "text/plain": [
       "<matplotlib.figure.Figure at 0x27287119470>"
      ]
     },
     "metadata": {},
     "output_type": "display_data"
    }
   ],
   "source": [
    "value = 0 \n",
    "plt.figure(figsize=(10,5))\n",
    "for i in range(10):\n",
    "    plt.subplot(2,5,i+1), plt.imshow(train_data[value], 'gray')\n",
    "    title_text = \"Train_Label:\" + str(train_label[value])\n",
    "    plt.xticks([]),plt.yticks([])\n",
    "    plt.title(title_text, size = 12)\n",
    "    value += 200"
   ]
  },
  {
   "cell_type": "markdown",
   "metadata": {
    "collapsed": true
   },
   "source": [
    "# One hot encoder "
   ]
  },
  {
   "cell_type": "code",
   "execution_count": 659,
   "metadata": {
    "collapsed": false
   },
   "outputs": [],
   "source": [
    "from keras.utils import np_utils\n",
    "test_y1 = np_utils.to_categorical(test_label[:,0])\n",
    "test_y2 = np_utils.to_categorical(test_label[:,1])\n",
    "\n",
    "train_y1 = np_utils.to_categorical(train_label[:,0])\n",
    "train_y2 = np_utils.to_categorical(train_label[:,1])"
   ]
  },
  {
   "cell_type": "code",
   "execution_count": 686,
   "metadata": {
    "collapsed": false
   },
   "outputs": [
    {
     "name": "stdout",
     "output_type": "stream",
     "text": [
      "Real value 0, 3\n",
      "test_y1:     [ 1.  0.  0.  0.  0.  0.  0.  0.  0.  0.]\n",
      "test_y2:     [ 0.  0.  0.  1.  0.  0.  0.  0.  0.  0.]\n",
      "test_label:  [ 1.  0.  0.  1.  0.  0.  0.  0.  0.  0.]\n",
      "Real value 0, 5\n",
      "train_y1:    [ 1.  0.  0.  0.  0.  0.  0.  0.  0.  0.]\n",
      "train_y2:    [ 0.  0.  0.  0.  0.  1.  0.  0.  0.  0.]\n",
      "train_label: [ 1.  0.  0.  0.  0.  1.  0.  0.  0.  0.]\n"
     ]
    }
   ],
   "source": [
    "test_label = test_y1 + test_y2\n",
    "train_label = train_y1 + train_y2\n",
    "\n",
    "print(\"Real value 0, 3\")\n",
    "print(\"test_y1:    \", test_y1[0])\n",
    "print(\"test_y2:    \", test_y2[0])\n",
    "print(\"test_label: \", test_label[0])\n",
    "print(\"Real value 0, 5\")\n",
    "print(\"train_y1:   \", train_y1[800])\n",
    "print(\"train_y2:   \", train_y2[800])\n",
    "print(\"train_label:\", train_label[800])\n"
   ]
  },
  {
   "cell_type": "markdown",
   "metadata": {},
   "source": [
    "# Training section"
   ]
  },
  {
   "cell_type": "code",
   "execution_count": 673,
   "metadata": {
    "collapsed": true
   },
   "outputs": [],
   "source": [
    "X_train = train_data.reshape(train_data.shape[0], 1, 28, 28).astype('float32')\n",
    "X_test = test_data.reshape(test_data.shape[0], 1, 28, 28).astype('float32')"
   ]
  },
  {
   "cell_type": "code",
   "execution_count": 674,
   "metadata": {
    "collapsed": false
   },
   "outputs": [
    {
     "data": {
      "text/plain": [
       "(18000, 1, 28, 28)"
      ]
     },
     "execution_count": 674,
     "metadata": {},
     "output_type": "execute_result"
    }
   ],
   "source": [
    "X_train.shape"
   ]
  },
  {
   "cell_type": "code",
   "execution_count": 675,
   "metadata": {
    "collapsed": false
   },
   "outputs": [
    {
     "data": {
      "text/plain": [
       "10"
      ]
     },
     "execution_count": 675,
     "metadata": {},
     "output_type": "execute_result"
    }
   ],
   "source": [
    "X_train = X_train / 255\n",
    "X_test = X_test / 255\n",
    "num_classes = test_label.shape[1]\n",
    "num_classes"
   ]
  },
  {
   "cell_type": "markdown",
   "metadata": {},
   "source": [
    "#### Define neural network model"
   ]
  },
  {
   "cell_type": "code",
   "execution_count": 677,
   "metadata": {
    "collapsed": true
   },
   "outputs": [],
   "source": [
    "def baseline_model():\n",
    "    # create model\n",
    "    model = Sequential()\n",
    "    model.add(Conv2D(32, (5, 5), input_shape=(1, 28, 28), activation='relu'))\n",
    "    model.add(MaxPooling2D(pool_size=(2, 2)))\n",
    "    model.add(Dropout(0.2))\n",
    "    model.add(Flatten())\n",
    "    model.add(Dense(128, activation='relu'))\n",
    "    model.add(Dense(num_classes, activation='softmax'))\n",
    "    # Compile model\n",
    "    model.compile(loss='categorical_crossentropy', optimizer='adam', metrics=['accuracy'])\n",
    "    return model"
   ]
  },
  {
   "cell_type": "code",
   "execution_count": 681,
   "metadata": {
    "collapsed": false,
    "scrolled": true
   },
   "outputs": [
    {
     "name": "stdout",
     "output_type": "stream",
     "text": [
      "Train on 18000 samples, validate on 10000 samples\n",
      "Epoch 1/10\n",
      " - 33s - loss: 3.0549 - acc: 0.4791 - val_loss: 2.8363 - val_acc: 0.4775\n",
      "Epoch 2/10\n",
      " - 33s - loss: 2.5190 - acc: 0.5152 - val_loss: 2.6153 - val_acc: 0.5040\n",
      "Epoch 3/10\n",
      " - 33s - loss: 2.3391 - acc: 0.5192 - val_loss: 2.5508 - val_acc: 0.5058\n",
      "Epoch 4/10\n",
      " - 33s - loss: 2.2236 - acc: 0.5167 - val_loss: 2.4993 - val_acc: 0.5277\n",
      "Epoch 5/10\n",
      " - 33s - loss: 2.1411 - acc: 0.5208 - val_loss: 2.4295 - val_acc: 0.4815\n",
      "Epoch 6/10\n",
      " - 33s - loss: 2.0654 - acc: 0.5176 - val_loss: 2.4041 - val_acc: 0.4794\n",
      "Epoch 7/10\n",
      " - 33s - loss: 2.0060 - acc: 0.5196 - val_loss: 2.4008 - val_acc: 0.4454\n",
      "Epoch 8/10\n",
      " - 33s - loss: 1.9545 - acc: 0.5197 - val_loss: 2.3688 - val_acc: 0.4810\n",
      "Epoch 9/10\n",
      " - 33s - loss: 1.9188 - acc: 0.5188 - val_loss: 2.3756 - val_acc: 0.4860\n",
      "Epoch 10/10\n",
      " - 33s - loss: 1.8784 - acc: 0.5183 - val_loss: 2.3636 - val_acc: 0.5003\n",
      "CNN Error: 49.97%\n"
     ]
    }
   ],
   "source": [
    "# build the model\n",
    "model = baseline_model()\n",
    "# Fit the model\n",
    "model.fit(X_train, train_label, validation_data=(X_test, test_label), epochs=10, batch_size=200, verbose=2)\n",
    "# Final evaluation of the model\n",
    "scores = model.evaluate(X_test, test_label, verbose=0)\n",
    "print(\"CNN Error: %.2f%%\" % (100-scores[1]*100))"
   ]
  },
  {
   "cell_type": "code",
   "execution_count": null,
   "metadata": {
    "collapsed": true
   },
   "outputs": [],
   "source": []
  }
 ],
 "metadata": {
  "kernelspec": {
   "display_name": "Python 3",
   "language": "python",
   "name": "python3"
  },
  "language_info": {
   "codemirror_mode": {
    "name": "ipython",
    "version": 3
   },
   "file_extension": ".py",
   "mimetype": "text/x-python",
   "name": "python",
   "nbconvert_exporter": "python",
   "pygments_lexer": "ipython3",
   "version": "3.6.0"
  }
 },
 "nbformat": 4,
 "nbformat_minor": 2
}
